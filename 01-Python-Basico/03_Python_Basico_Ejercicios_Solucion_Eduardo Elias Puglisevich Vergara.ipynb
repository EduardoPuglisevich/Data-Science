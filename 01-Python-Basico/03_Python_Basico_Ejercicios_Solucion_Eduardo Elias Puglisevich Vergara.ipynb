{
  "cells": [
    {
      "cell_type": "markdown",
      "metadata": {
        "id": "HWr0HzSD3nKM"
      },
      "source": [
        "___\n",
        "\n",
        "<a href='https://jupyter-notebook.readthedocs.io/en/stable/examples/Notebook/Running%20Code.html'> <img src='https://www.python.org/static/img/python-logo.png' /></a>\n",
        "___\n",
        "# Python Basico - Ejercicios\n",
        "\n"
      ]
    },
    {
      "cell_type": "markdown",
      "metadata": {
        "id": "J87bdEfr3nKP"
      },
      "source": [
        "## Ejercicios\n",
        "\n",
        "Responda las preguntas o complete las tareas descritas en negrita a continuación, use el método específico descrito si corresponde."
      ]
    },
    {
      "cell_type": "markdown",
      "metadata": {
        "id": "K2PGJsu-3nKP"
      },
      "source": [
        "** ¿Cuánto es 7 elevado a 4?**"
      ]
    },
    {
      "cell_type": "code",
      "execution_count": 1,
      "metadata": {
        "colab": {
          "base_uri": "https://localhost:8080/"
        },
        "id": "QdWaVGss3nKQ",
        "outputId": "ccf7a92b-7e39-4414-e183-c1339615daf3"
      },
      "outputs": [
        {
          "output_type": "execute_result",
          "data": {
            "text/plain": [
              "2401"
            ]
          },
          "metadata": {},
          "execution_count": 1
        }
      ],
      "source": [
        "7**4"
      ]
    },
    {
      "cell_type": "markdown",
      "metadata": {
        "id": "EcSUG2SO3nKQ"
      },
      "source": [
        "** Divida esta cadena:**\n",
        "\n",
        "    s = \"Hola mi estimado!\"\n",
        "    \n",
        "**en una lista. **"
      ]
    },
    {
      "cell_type": "code",
      "execution_count": 4,
      "metadata": {
        "id": "0qoSV6-u3nKR"
      },
      "outputs": [],
      "source": [
        "s = \"Hola mi estimado!\"\n",
        "lista1 = s.split()"
      ]
    },
    {
      "cell_type": "code",
      "execution_count": 5,
      "metadata": {
        "colab": {
          "base_uri": "https://localhost:8080/"
        },
        "id": "nLH5Faoe3nKR",
        "outputId": "374c0288-aed2-4286-e8bb-46546b78bd45"
      },
      "outputs": [
        {
          "output_type": "execute_result",
          "data": {
            "text/plain": [
              "['Hola', 'mi', 'estimado!']"
            ]
          },
          "metadata": {},
          "execution_count": 5
        }
      ],
      "source": [
        "lista1"
      ]
    },
    {
      "cell_type": "markdown",
      "metadata": {
        "id": "3Zu7MzLC3nKR"
      },
      "source": [
        "** Dadas las variables:**\n",
        "\n",
        "    planeta = \"Tierra\"\n",
        "    diametro = 12742\n",
        "\n",
        "** Use .format() para visualizar la siguente frase: **\n",
        "\n",
        "    El diametro de la Tierra es 12742 kilometros."
      ]
    },
    {
      "cell_type": "code",
      "execution_count": 7,
      "metadata": {
        "id": "NRepOIV13nKR"
      },
      "outputs": [],
      "source": [
        "planeta = \"Tierra\"\n",
        "diametro = 12742"
      ]
    },
    {
      "cell_type": "code",
      "execution_count": 8,
      "metadata": {
        "colab": {
          "base_uri": "https://localhost:8080/"
        },
        "id": "1U4i2S6X3nKS",
        "outputId": "05029694-e8d7-4290-9217-b1afcedde181"
      },
      "outputs": [
        {
          "output_type": "stream",
          "name": "stdout",
          "text": [
            "El diametro de la Tierra es 12742 kilomentros\n"
          ]
        }
      ],
      "source": [
        "print(\"El diametro de la {planeta} es {diametro} kilomentros\".format(planeta=planeta,diametro=diametro))"
      ]
    },
    {
      "cell_type": "markdown",
      "metadata": {
        "id": "tdNrPO4_3nKS"
      },
      "source": [
        "** Dada esta lista anidada, use la indexación para obtener la palabra \"hola\"**"
      ]
    },
    {
      "cell_type": "code",
      "execution_count": 10,
      "metadata": {
        "id": "gCyMlIey3nKT"
      },
      "outputs": [],
      "source": [
        "lst = [1,2,[3,4],[5,[100,200,['hola']],23,11],1,7]"
      ]
    },
    {
      "cell_type": "code",
      "execution_count": 12,
      "metadata": {
        "colab": {
          "base_uri": "https://localhost:8080/",
          "height": 35
        },
        "id": "sz8cyOp93nKT",
        "outputId": "155cb492-7828-45ea-8cd5-6d4663a4b547"
      },
      "outputs": [
        {
          "output_type": "execute_result",
          "data": {
            "text/plain": [
              "'hola'"
            ],
            "application/vnd.google.colaboratory.intrinsic+json": {
              "type": "string"
            }
          },
          "metadata": {},
          "execution_count": 12
        }
      ],
      "source": [
        "lst[3][1][2][0]"
      ]
    },
    {
      "cell_type": "markdown",
      "metadata": {
        "id": "mQeWLsI_3nKT"
      },
      "source": [
        "** Dado este diccionario nido, tome la palabra \"hola\". Esté preparado, esto será molesto / complicado  **"
      ]
    },
    {
      "cell_type": "code",
      "execution_count": 14,
      "metadata": {
        "id": "a-GX-cDE3nKT"
      },
      "outputs": [],
      "source": [
        "d = {'k1':[1,2,3,{'dificil':['oh','man','inicio',{'destino':[1,2,3,'hola']}]}]}"
      ]
    },
    {
      "cell_type": "code",
      "execution_count": 17,
      "metadata": {
        "colab": {
          "base_uri": "https://localhost:8080/",
          "height": 35
        },
        "id": "or8MDtLN3nKT",
        "outputId": "0ec2da8a-f319-4203-e656-19b79129c2f6"
      },
      "outputs": [
        {
          "output_type": "execute_result",
          "data": {
            "text/plain": [
              "'hola'"
            ],
            "application/vnd.google.colaboratory.intrinsic+json": {
              "type": "string"
            }
          },
          "metadata": {},
          "execution_count": 17
        }
      ],
      "source": [
        "d['k1'][3]['dificil'][3]['destino'][3]"
      ]
    },
    {
      "cell_type": "markdown",
      "metadata": {
        "id": "ew08vnOq3nKU"
      },
      "source": [
        "** ¿Cuál es la principal diferencia entre una tupla y una lista? **"
      ]
    },
    {
      "cell_type": "code",
      "execution_count": 18,
      "metadata": {
        "colab": {
          "base_uri": "https://localhost:8080/"
        },
        "id": "gywwSRH93nKU",
        "outputId": "8ca5d548-c586-48ba-fef0-b795751ac76c"
      },
      "outputs": [
        {
          "output_type": "stream",
          "name": "stdout",
          "text": [
            "La tupla es inmutable, es decir sus elementos no se pueden modificar. En cambio, la lista si se puede modificar\n"
          ]
        }
      ],
      "source": [
        "print(\"La tupla es inmutable, es decir sus elementos no se pueden modificar. En cambio, la lista si se puede modificar\")"
      ]
    },
    {
      "cell_type": "markdown",
      "metadata": {
        "id": "-uUTPXGT3nKU"
      },
      "source": [
        "** Cree una función que tome el dominio del sitio web de correo electrónico a partir de una cadena con el siguiente formato: **\n",
        "\n",
        "    user@dominio.com\n",
        "    \n",
        "**Entonces, por ejemplo, pasando \"user@domain.com\" retornaria: domain.com**"
      ]
    },
    {
      "cell_type": "code",
      "execution_count": 19,
      "metadata": {
        "id": "YiGjHJz13nKU"
      },
      "outputs": [],
      "source": [
        "def dominioGet(string):\n",
        "  return string.split(\"@\")[1]"
      ]
    },
    {
      "cell_type": "code",
      "execution_count": 20,
      "metadata": {
        "colab": {
          "base_uri": "https://localhost:8080/",
          "height": 35
        },
        "id": "plqqTkmA3nKV",
        "outputId": "03a63ba7-4027-4f96-c53f-5f1375c032cb"
      },
      "outputs": [
        {
          "output_type": "execute_result",
          "data": {
            "text/plain": [
              "'dominio.com'"
            ],
            "application/vnd.google.colaboratory.intrinsic+json": {
              "type": "string"
            }
          },
          "metadata": {},
          "execution_count": 20
        }
      ],
      "source": [
        "dominioGet('user@dominio.com')"
      ]
    },
    {
      "cell_type": "markdown",
      "metadata": {
        "id": "QJqCuDcb3nKV"
      },
      "source": [
        "** Cree una función básica que devuelva Verdadero si la palabra 'perro' está contenida en la cadena de entrada. No se preocupe por casos extremos como una puntuación que se adjunta a la palabra perro, pero tenga en cuenta las mayúsculas. **"
      ]
    },
    {
      "cell_type": "code",
      "execution_count": 21,
      "metadata": {
        "id": "IbuzYI2b3nKV"
      },
      "outputs": [],
      "source": [
        "def ubicaDog(frase):\n",
        "  return \"perro\" in frase"
      ]
    },
    {
      "cell_type": "code",
      "execution_count": 23,
      "metadata": {
        "colab": {
          "base_uri": "https://localhost:8080/"
        },
        "id": "VYbDKv2Y3nKV",
        "outputId": "fc0132de-0b1a-41b4-c725-64907773bd43"
      },
      "outputs": [
        {
          "output_type": "execute_result",
          "data": {
            "text/plain": [
              "False"
            ]
          },
          "metadata": {},
          "execution_count": 23
        }
      ],
      "source": [
        "ubicaDog('Esta el perro aqui?')"
      ]
    },
    {
      "cell_type": "markdown",
      "metadata": {
        "id": "Pu3-NmbZ3nKW"
      },
      "source": [
        "** Cree una función que cuente el número de veces que aparece la palabra \"perro\" en una cadena. Nuevamente ignore los casos extremos. **"
      ]
    },
    {
      "cell_type": "code",
      "execution_count": 24,
      "metadata": {
        "id": "UsaRZ4_H3nKW"
      },
      "outputs": [],
      "source": [
        "def cuentaDog(frase):\n",
        "  return frase.count(\"perro\")"
      ]
    },
    {
      "cell_type": "code",
      "execution_count": 25,
      "metadata": {
        "colab": {
          "base_uri": "https://localhost:8080/"
        },
        "id": "88ffpfys3nKW",
        "outputId": "aad4081f-bc2e-4f5c-d9a8-e7c69c45fd7e"
      },
      "outputs": [
        {
          "output_type": "execute_result",
          "data": {
            "text/plain": [
              "2"
            ]
          },
          "metadata": {},
          "execution_count": 25
        }
      ],
      "source": [
        "cuentaDog('Este perro corre mas rapido que este otro perro no lo dudes!')"
      ]
    },
    {
      "cell_type": "markdown",
      "metadata": {
        "id": "VRJuoY8A3nKW"
      },
      "source": [
        "** Utilice expresiones lambda y la función filter () para filtrar las palabras de una lista que comiencen con la letra 's'. Por ejemplo:**\n",
        "\n",
        "    seq = ['sopa','perro','salida','gato','excelente']\n",
        "\n",
        "**debe filtrarse solo:**\n",
        "\n",
        "    ['sopa','salida']"
      ]
    },
    {
      "cell_type": "code",
      "execution_count": 28,
      "metadata": {
        "id": "ugA75FLt3nKW"
      },
      "outputs": [],
      "source": [
        "seq = ['sopa','perro','salida','gato','excelente']"
      ]
    },
    {
      "cell_type": "code",
      "execution_count": 29,
      "metadata": {
        "colab": {
          "base_uri": "https://localhost:8080/"
        },
        "id": "7v3g4PP23nKW",
        "outputId": "e003afe3-33a8-4fcf-f188-37c3285fac45"
      },
      "outputs": [
        {
          "output_type": "execute_result",
          "data": {
            "text/plain": [
              "['sopa', 'salida']"
            ]
          },
          "metadata": {},
          "execution_count": 29
        }
      ],
      "source": [
        "list(filter(lambda item: 's' in item, seq))"
      ]
    },
    {
      "cell_type": "markdown",
      "metadata": {
        "id": "5wcWuxUZ3nKW"
      },
      "source": [
        "### Ejercicio Final\n",
        "**Conduces demasiado rápido y un policía te detiene. Escribe una función para devolver uno de los 3 resultados posibles: \"Sin papeleta\", \"Papeleta NO GRAVE\" o \"Papeleta GRAVE\".\n",
        "   Si tu velocidad es de 60 o menos, el resultado es \"Sin papeleta\". Si la velocidad está entre 61\n",
        "   y 80 inclusive, el resultado es \"Papeleta NO GRAVE\". Si la velocidad es 81 o más, el resultado es \"Papeleta GRAVE\". A menos que sea tu cumpleaños (codificado como un valor booleano en los parámetros de la función), en tu cumpleaños, la velocidad puede ser 5 más alta en total de casos. **"
      ]
    },
    {
      "cell_type": "code",
      "execution_count": 30,
      "metadata": {
        "id": "ohUlNll03nKW"
      },
      "outputs": [],
      "source": [
        "def calcula_velocidad(velocidad, es_mi_cumple):\n",
        "   if velocidad <= 60 or (velocidad <= 65 and es_mi_cumple):\n",
        "      print(\"Sin papeleta\")\n",
        "   elif velocidad <= 80 or (velocidad <= 85 and es_mi_cumple):\n",
        "      print(\"Papeleta NO GRAVE\")\n",
        "   else:\n",
        "      print(\"Papeleta GRAVE\")"
      ]
    },
    {
      "cell_type": "code",
      "source": [
        "calcula_velocidad(63,False)"
      ],
      "metadata": {
        "colab": {
          "base_uri": "https://localhost:8080/"
        },
        "id": "eA4cDSiT8vcf",
        "outputId": "a50061c5-cea0-49cc-ff24-32914c5bce77"
      },
      "execution_count": 34,
      "outputs": [
        {
          "output_type": "stream",
          "name": "stdout",
          "text": [
            "Papeleta NO GRAVE\n"
          ]
        }
      ]
    },
    {
      "cell_type": "code",
      "execution_count": 31,
      "metadata": {
        "colab": {
          "base_uri": "https://localhost:8080/"
        },
        "id": "0yLS2d7Y3nKX",
        "outputId": "b7c4d1a9-8c75-473c-8a76-5a4f160b444a"
      },
      "outputs": [
        {
          "output_type": "stream",
          "name": "stdout",
          "text": [
            "Papeleta NO GRAVE\n"
          ]
        }
      ],
      "source": [
        "calcula_velocidad(81,True)"
      ]
    },
    {
      "cell_type": "code",
      "execution_count": 32,
      "metadata": {
        "colab": {
          "base_uri": "https://localhost:8080/"
        },
        "id": "L1fmTzil3nKX",
        "outputId": "1754023f-8eaa-4279-f7e6-c50e2a26d034"
      },
      "outputs": [
        {
          "output_type": "stream",
          "name": "stdout",
          "text": [
            "Papeleta GRAVE\n"
          ]
        }
      ],
      "source": [
        "calcula_velocidad(81,False)"
      ]
    },
    {
      "cell_type": "markdown",
      "metadata": {
        "id": "dA4P62m93nKX"
      },
      "source": [
        "# Buen trabajo!"
      ]
    }
  ],
  "metadata": {
    "kernelspec": {
      "display_name": "Python 3",
      "language": "python",
      "name": "python3"
    },
    "language_info": {
      "codemirror_mode": {
        "name": "ipython",
        "version": 3
      },
      "file_extension": ".py",
      "mimetype": "text/x-python",
      "name": "python",
      "nbconvert_exporter": "python",
      "pygments_lexer": "ipython3",
      "version": "3.8.5"
    },
    "colab": {
      "provenance": []
    }
  },
  "nbformat": 4,
  "nbformat_minor": 0
}